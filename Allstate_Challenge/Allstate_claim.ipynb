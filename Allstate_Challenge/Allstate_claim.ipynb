{
 "cells": [
  {
   "cell_type": "code",
   "execution_count": 2,
   "metadata": {
    "collapsed": false
   },
   "outputs": [],
   "source": [
    "import pandas as pd\n",
    "import numpy as np\n",
    "import seaborn as sns\n",
    "dataset = pd.read_csv('train.csv')"
   ]
  },
  {
   "cell_type": "code",
   "execution_count": 3,
   "metadata": {
    "collapsed": false
   },
   "outputs": [
    {
     "data": {
      "text/html": [
       "<div>\n",
       "<table border=\"1\" class=\"dataframe\">\n",
       "  <thead>\n",
       "    <tr style=\"text-align: right;\">\n",
       "      <th></th>\n",
       "      <th>id</th>\n",
       "      <th>cat1</th>\n",
       "      <th>cat2</th>\n",
       "      <th>cat3</th>\n",
       "      <th>cat4</th>\n",
       "      <th>cat5</th>\n",
       "      <th>cat6</th>\n",
       "      <th>cat7</th>\n",
       "      <th>cat8</th>\n",
       "      <th>cat9</th>\n",
       "      <th>...</th>\n",
       "      <th>cont6</th>\n",
       "      <th>cont7</th>\n",
       "      <th>cont8</th>\n",
       "      <th>cont9</th>\n",
       "      <th>cont10</th>\n",
       "      <th>cont11</th>\n",
       "      <th>cont12</th>\n",
       "      <th>cont13</th>\n",
       "      <th>cont14</th>\n",
       "      <th>loss</th>\n",
       "    </tr>\n",
       "  </thead>\n",
       "  <tbody>\n",
       "    <tr>\n",
       "      <th>0</th>\n",
       "      <td>1</td>\n",
       "      <td>A</td>\n",
       "      <td>B</td>\n",
       "      <td>A</td>\n",
       "      <td>B</td>\n",
       "      <td>A</td>\n",
       "      <td>A</td>\n",
       "      <td>A</td>\n",
       "      <td>A</td>\n",
       "      <td>B</td>\n",
       "      <td>...</td>\n",
       "      <td>0.718367</td>\n",
       "      <td>0.335060</td>\n",
       "      <td>0.30260</td>\n",
       "      <td>0.67135</td>\n",
       "      <td>0.83510</td>\n",
       "      <td>0.569745</td>\n",
       "      <td>0.594646</td>\n",
       "      <td>0.822493</td>\n",
       "      <td>0.714843</td>\n",
       "      <td>2213.18</td>\n",
       "    </tr>\n",
       "    <tr>\n",
       "      <th>1</th>\n",
       "      <td>2</td>\n",
       "      <td>A</td>\n",
       "      <td>B</td>\n",
       "      <td>A</td>\n",
       "      <td>A</td>\n",
       "      <td>A</td>\n",
       "      <td>A</td>\n",
       "      <td>A</td>\n",
       "      <td>A</td>\n",
       "      <td>B</td>\n",
       "      <td>...</td>\n",
       "      <td>0.438917</td>\n",
       "      <td>0.436585</td>\n",
       "      <td>0.60087</td>\n",
       "      <td>0.35127</td>\n",
       "      <td>0.43919</td>\n",
       "      <td>0.338312</td>\n",
       "      <td>0.366307</td>\n",
       "      <td>0.611431</td>\n",
       "      <td>0.304496</td>\n",
       "      <td>1283.60</td>\n",
       "    </tr>\n",
       "    <tr>\n",
       "      <th>2</th>\n",
       "      <td>5</td>\n",
       "      <td>A</td>\n",
       "      <td>B</td>\n",
       "      <td>A</td>\n",
       "      <td>A</td>\n",
       "      <td>B</td>\n",
       "      <td>A</td>\n",
       "      <td>A</td>\n",
       "      <td>A</td>\n",
       "      <td>B</td>\n",
       "      <td>...</td>\n",
       "      <td>0.289648</td>\n",
       "      <td>0.315545</td>\n",
       "      <td>0.27320</td>\n",
       "      <td>0.26076</td>\n",
       "      <td>0.32446</td>\n",
       "      <td>0.381398</td>\n",
       "      <td>0.373424</td>\n",
       "      <td>0.195709</td>\n",
       "      <td>0.774425</td>\n",
       "      <td>3005.09</td>\n",
       "    </tr>\n",
       "  </tbody>\n",
       "</table>\n",
       "<p>3 rows × 132 columns</p>\n",
       "</div>"
      ],
      "text/plain": [
       "   id cat1 cat2 cat3 cat4 cat5 cat6 cat7 cat8 cat9   ...        cont6  \\\n",
       "0   1    A    B    A    B    A    A    A    A    B   ...     0.718367   \n",
       "1   2    A    B    A    A    A    A    A    A    B   ...     0.438917   \n",
       "2   5    A    B    A    A    B    A    A    A    B   ...     0.289648   \n",
       "\n",
       "      cont7    cont8    cont9   cont10    cont11    cont12    cont13  \\\n",
       "0  0.335060  0.30260  0.67135  0.83510  0.569745  0.594646  0.822493   \n",
       "1  0.436585  0.60087  0.35127  0.43919  0.338312  0.366307  0.611431   \n",
       "2  0.315545  0.27320  0.26076  0.32446  0.381398  0.373424  0.195709   \n",
       "\n",
       "     cont14     loss  \n",
       "0  0.714843  2213.18  \n",
       "1  0.304496  1283.60  \n",
       "2  0.774425  3005.09  \n",
       "\n",
       "[3 rows x 132 columns]"
      ]
     },
     "execution_count": 3,
     "metadata": {},
     "output_type": "execute_result"
    }
   ],
   "source": [
    "dataset.head(3)"
   ]
  },
  {
   "cell_type": "code",
   "execution_count": 6,
   "metadata": {
    "collapsed": false
   },
   "outputs": [
    {
     "name": "stdout",
     "output_type": "stream",
     "text": [
      "number of continuous features:  14\n",
      "number of categorical features:  116\n"
     ]
    }
   ],
   "source": [
    "cont_columns = []\n",
    "cat_columns = []\n",
    "for i in dataset.columns:\n",
    "    if dataset[i].dtype == 'float' and i!='loss':\n",
    "        cont_columns.append(i)\n",
    "    elif dataset[i].dtype == 'object':\n",
    "        cat_columns.append(i)\n",
    "print \"number of continuous features: \", len(cont_columns)\n",
    "print \"number of categorical features: \", len(cat_columns)"
   ]
  },
  {
   "cell_type": "code",
   "execution_count": 7,
   "metadata": {
    "collapsed": false
   },
   "outputs": [
    {
     "data": {
      "text/html": [
       "<div>\n",
       "<table border=\"1\" class=\"dataframe\">\n",
       "  <thead>\n",
       "    <tr style=\"text-align: right;\">\n",
       "      <th></th>\n",
       "      <th>cat1</th>\n",
       "      <th>cat2</th>\n",
       "      <th>cat3</th>\n",
       "      <th>cat4</th>\n",
       "      <th>cat5</th>\n",
       "      <th>cat6</th>\n",
       "      <th>cat7</th>\n",
       "      <th>cat8</th>\n",
       "      <th>cat9</th>\n",
       "      <th>cat10</th>\n",
       "      <th>...</th>\n",
       "      <th>cat107</th>\n",
       "      <th>cat108</th>\n",
       "      <th>cat109</th>\n",
       "      <th>cat110</th>\n",
       "      <th>cat111</th>\n",
       "      <th>cat112</th>\n",
       "      <th>cat113</th>\n",
       "      <th>cat114</th>\n",
       "      <th>cat115</th>\n",
       "      <th>cat116</th>\n",
       "    </tr>\n",
       "  </thead>\n",
       "  <tbody>\n",
       "    <tr>\n",
       "      <th>count</th>\n",
       "      <td>188318</td>\n",
       "      <td>188318</td>\n",
       "      <td>188318</td>\n",
       "      <td>188318</td>\n",
       "      <td>188318</td>\n",
       "      <td>188318</td>\n",
       "      <td>188318</td>\n",
       "      <td>188318</td>\n",
       "      <td>188318</td>\n",
       "      <td>188318</td>\n",
       "      <td>...</td>\n",
       "      <td>188318</td>\n",
       "      <td>188318</td>\n",
       "      <td>188318</td>\n",
       "      <td>188318</td>\n",
       "      <td>188318</td>\n",
       "      <td>188318</td>\n",
       "      <td>188318</td>\n",
       "      <td>188318</td>\n",
       "      <td>188318</td>\n",
       "      <td>188318</td>\n",
       "    </tr>\n",
       "    <tr>\n",
       "      <th>unique</th>\n",
       "      <td>2</td>\n",
       "      <td>2</td>\n",
       "      <td>2</td>\n",
       "      <td>2</td>\n",
       "      <td>2</td>\n",
       "      <td>2</td>\n",
       "      <td>2</td>\n",
       "      <td>2</td>\n",
       "      <td>2</td>\n",
       "      <td>2</td>\n",
       "      <td>...</td>\n",
       "      <td>20</td>\n",
       "      <td>11</td>\n",
       "      <td>84</td>\n",
       "      <td>131</td>\n",
       "      <td>16</td>\n",
       "      <td>51</td>\n",
       "      <td>61</td>\n",
       "      <td>19</td>\n",
       "      <td>23</td>\n",
       "      <td>326</td>\n",
       "    </tr>\n",
       "    <tr>\n",
       "      <th>top</th>\n",
       "      <td>A</td>\n",
       "      <td>A</td>\n",
       "      <td>A</td>\n",
       "      <td>A</td>\n",
       "      <td>A</td>\n",
       "      <td>A</td>\n",
       "      <td>A</td>\n",
       "      <td>A</td>\n",
       "      <td>A</td>\n",
       "      <td>A</td>\n",
       "      <td>...</td>\n",
       "      <td>F</td>\n",
       "      <td>B</td>\n",
       "      <td>BI</td>\n",
       "      <td>CL</td>\n",
       "      <td>A</td>\n",
       "      <td>E</td>\n",
       "      <td>BM</td>\n",
       "      <td>A</td>\n",
       "      <td>K</td>\n",
       "      <td>HK</td>\n",
       "    </tr>\n",
       "    <tr>\n",
       "      <th>freq</th>\n",
       "      <td>141550</td>\n",
       "      <td>106721</td>\n",
       "      <td>177993</td>\n",
       "      <td>128395</td>\n",
       "      <td>123737</td>\n",
       "      <td>131693</td>\n",
       "      <td>183744</td>\n",
       "      <td>177274</td>\n",
       "      <td>113122</td>\n",
       "      <td>160213</td>\n",
       "      <td>...</td>\n",
       "      <td>47310</td>\n",
       "      <td>65512</td>\n",
       "      <td>152918</td>\n",
       "      <td>25305</td>\n",
       "      <td>128395</td>\n",
       "      <td>25148</td>\n",
       "      <td>26191</td>\n",
       "      <td>131693</td>\n",
       "      <td>43866</td>\n",
       "      <td>21061</td>\n",
       "    </tr>\n",
       "  </tbody>\n",
       "</table>\n",
       "<p>4 rows × 116 columns</p>\n",
       "</div>"
      ],
      "text/plain": [
       "          cat1    cat2    cat3    cat4    cat5    cat6    cat7    cat8  \\\n",
       "count   188318  188318  188318  188318  188318  188318  188318  188318   \n",
       "unique       2       2       2       2       2       2       2       2   \n",
       "top          A       A       A       A       A       A       A       A   \n",
       "freq    141550  106721  177993  128395  123737  131693  183744  177274   \n",
       "\n",
       "          cat9   cat10   ...    cat107  cat108  cat109  cat110  cat111  \\\n",
       "count   188318  188318   ...    188318  188318  188318  188318  188318   \n",
       "unique       2       2   ...        20      11      84     131      16   \n",
       "top          A       A   ...         F       B      BI      CL       A   \n",
       "freq    113122  160213   ...     47310   65512  152918   25305  128395   \n",
       "\n",
       "        cat112  cat113  cat114  cat115  cat116  \n",
       "count   188318  188318  188318  188318  188318  \n",
       "unique      51      61      19      23     326  \n",
       "top          E      BM       A       K      HK  \n",
       "freq     25148   26191  131693   43866   21061  \n",
       "\n",
       "[4 rows x 116 columns]"
      ]
     },
     "execution_count": 7,
     "metadata": {},
     "output_type": "execute_result"
    }
   ],
   "source": [
    "dataset.describe(include = ['object'])"
   ]
  },
  {
   "cell_type": "markdown",
   "metadata": {
    "collapsed": true
   },
   "source": [
    "#### ＊Test out Faron's XGBoost emsemble method＊"
   ]
  },
  {
   "cell_type": "code",
   "execution_count": 9,
   "metadata": {
    "collapsed": false
   },
   "outputs": [],
   "source": [
    "import xgboost as xgb\n",
    "from scipy.sparse import csr_matrix\n",
    "from sklearn.model_selection import KFold\n",
    "from collections import Counter"
   ]
  },
  {
   "cell_type": "code",
   "execution_count": 20,
   "metadata": {
    "collapsed": true
   },
   "outputs": [],
   "source": [
    "ID = 'id'\n",
    "TARGET = 'loss'\n",
    "DATA_DIR = \"\"\n",
    "\n",
    "TRAIN_FILE = \"{0}train.csv\".format(DATA_DIR)\n",
    "TEST_FILE = \"{0}test.csv\".format(DATA_DIR)\n",
    "\n",
    "SEED = 0\n",
    "NFOLDS = 5\n",
    "NTHREADS = 4\n",
    "\n",
    "xgb_params = {\n",
    "    'seed': 0,\n",
    "    'colsample_bytree': 1,\n",
    "    'silent': 1,\n",
    "    'subsample': 1.0,\n",
    "    'learning_rate': 1.0,\n",
    "    'objective': 'reg:linear',\n",
    "    'max_depth': 100,\n",
    "    'num_parallel_tree': 1,\n",
    "    'min_child_weight': 250,\n",
    "    'eval_metric': 'mae',\n",
    "    'nthread': NTHREADS,\n",
    "    'nrounds': 1\n",
    "}"
   ]
  },
  {
   "cell_type": "code",
   "execution_count": 17,
   "metadata": {
    "collapsed": false
   },
   "outputs": [],
   "source": [
    "def get_data():\n",
    "    train = pd.read_csv(TRAIN_FILE)\n",
    "    test = pd.read_csv(TEST_FILE)\n",
    "\n",
    "    y_train = train[TARGET].ravel()\n",
    "\n",
    "    train.drop([ID, TARGET], axis=1, inplace=True)\n",
    "    test.drop([ID], axis=1, inplace=True)\n",
    "\n",
    "    ntrain = train.shape[0]\n",
    "    train_test = pd.concat((train, test)).reset_index(drop=True)\n",
    "\n",
    "    features = train.columns\n",
    "    cats = [feat for feat in features if 'cat' in feat]\n",
    "\n",
    "    train_test = train_test[cats]\n",
    "\n",
    "    for feat in cats:\n",
    "        # convert categorical to integers\n",
    "        train_test[feat] = pd.factorize(train_test[feat], sort=True)[0]\n",
    "\n",
    "    x_train = np.array(train_test.iloc[:ntrain, :])\n",
    "    x_test = np.array(train_test.iloc[ntrain:, :])\n",
    "\n",
    "    return x_train, y_train, x_test\n",
    "\n",
    "\n",
    "def get_oof(clf, x_train, y_train, x_test):\n",
    "    ntrain = x_train.shape[0]\n",
    "    oof_train = np.zeros((ntrain,))\n",
    "\n",
    "    kf = KFold(n_splits=NFOLDS, shuffle=True, random_state=SEED).split(x_train)\n",
    "\n",
    "    for i, (train_index, test_index) in enumerate(kf):\n",
    "        x_tr = x_train[train_index]\n",
    "        y_tr = y_train[train_index]\n",
    "        x_te = x_train[test_index]\n",
    "\n",
    "        clf.train(x_tr, y_tr)\n",
    "        oof_train[test_index] = clf.predict(x_te)\n",
    "\n",
    "    clf.train(x_train, y_train)\n",
    "    oof_test = clf.predict(x_test)\n",
    "    return oof_train.reshape(-1, 1), oof_test.reshape(-1, 1)\n",
    "\n",
    "\n",
    "def get_sparse_ohe(x_train, x_test, min_obs=10):\n",
    "    ntrain = x_train.shape[0]\n",
    "\n",
    "    train_test = np.concatenate((x_train, x_test)).reshape(-1, )\n",
    "\n",
    "    # replace infrequent values by nan\n",
    "    val = dict((k, np.nan if v < min_obs else k) for k, v in dict(Counter(train_test)).items())\n",
    "    k, v = np.array(list(zip(*sorted(val.items()))))\n",
    "    train_test = v[np.digitize(train_test, k, right=True)]\n",
    "\n",
    "    ohe = csr_matrix(pd.get_dummies(train_test, dummy_na=False, sparse=True))\n",
    "\n",
    "    x_train_ohe = ohe[:ntrain, :]\n",
    "    x_test_ohe = ohe[ntrain:, :]\n",
    "\n",
    "    return x_train_ohe, x_test_ohe"
   ]
  },
  {
   "cell_type": "code",
   "execution_count": 18,
   "metadata": {
    "collapsed": true
   },
   "outputs": [],
   "source": [
    "class XgbWrapper(object):\n",
    "    def __init__(self, seed=0, params=None):\n",
    "        self.param = params\n",
    "        self.param['seed'] = seed\n",
    "        self.nrounds = params.pop('nrounds', 1000)\n",
    "\n",
    "    def train(self, x_train, y_train, x_valid=None, y_valid=None, sample_weights=None):\n",
    "        dtrain = xgb.DMatrix(x_train, label=y_train)\n",
    "        self.gbdt = xgb.train(self.param, dtrain, self.nrounds)\n",
    "    \n",
    "    # pred_leaf=True => getting leaf indices\n",
    "    def predict(self, x):\n",
    "        return self.gbdt.predict(xgb.DMatrix(x), pred_leaf=True).astype(int)"
   ]
  },
  {
   "cell_type": "code",
   "execution_count": null,
   "metadata": {
    "collapsed": false
   },
   "outputs": [],
   "source": [
    "x_train, y_train, x_test = get_data()\n",
    "\n",
    "dtrain = xgb.DMatrix(x_train, label=y_train)\n",
    "\n",
    "xg = XgbWrapper(seed=SEED, params=xgb_params)\n",
    "xg_cat_embedding_train, xg_cat_embedding_test = get_oof(xg, x_train, y_train, x_test)\n",
    "\n",
    "xg_cat_embedding_ohe_train, xg_cat_embedding_ohe_test = get_sparse_ohe(xg_cat_embedding_train, xg_cat_embedding_test)\n",
    "\n",
    "print(\"OneHotEncoded XG-Embeddings: {},{}\".format(xg_cat_embedding_ohe_train.shape, xg_cat_embedding_ohe_test.shape))"
   ]
  },
  {
   "cell_type": "code",
   "execution_count": 29,
   "metadata": {
    "collapsed": false
   },
   "outputs": [
    {
     "data": {
      "text/plain": [
       "(188318, 1)"
      ]
     },
     "execution_count": 29,
     "metadata": {},
     "output_type": "execute_result"
    }
   ],
   "source": [
    "xg_cat_embedding_train.shape"
   ]
  },
  {
   "cell_type": "code",
   "execution_count": 23,
   "metadata": {
    "collapsed": true
   },
   "outputs": [],
   "source": [
    "df = pd.DataFrame({'A':['type1','type2','type2'],\n",
    "                   'B':['type1','type2','type3'],\n",
    "                   'C':['type1','type3','type3']})"
   ]
  },
  {
   "cell_type": "code",
   "execution_count": 26,
   "metadata": {
    "collapsed": false
   },
   "outputs": [],
   "source": [
    "df['A'] = pd.factorize(df['A'], sort=True)[0]"
   ]
  },
  {
   "cell_type": "code",
   "execution_count": 27,
   "metadata": {
    "collapsed": false
   },
   "outputs": [
    {
     "data": {
      "text/html": [
       "<div>\n",
       "<table border=\"1\" class=\"dataframe\">\n",
       "  <thead>\n",
       "    <tr style=\"text-align: right;\">\n",
       "      <th></th>\n",
       "      <th>A</th>\n",
       "      <th>B</th>\n",
       "      <th>C</th>\n",
       "    </tr>\n",
       "  </thead>\n",
       "  <tbody>\n",
       "    <tr>\n",
       "      <th>0</th>\n",
       "      <td>0</td>\n",
       "      <td>type1</td>\n",
       "      <td>type1</td>\n",
       "    </tr>\n",
       "    <tr>\n",
       "      <th>1</th>\n",
       "      <td>1</td>\n",
       "      <td>type2</td>\n",
       "      <td>type3</td>\n",
       "    </tr>\n",
       "    <tr>\n",
       "      <th>2</th>\n",
       "      <td>1</td>\n",
       "      <td>type3</td>\n",
       "      <td>type3</td>\n",
       "    </tr>\n",
       "  </tbody>\n",
       "</table>\n",
       "</div>"
      ],
      "text/plain": [
       "   A      B      C\n",
       "0  0  type1  type1\n",
       "1  1  type2  type3\n",
       "2  1  type3  type3"
      ]
     },
     "execution_count": 27,
     "metadata": {},
     "output_type": "execute_result"
    }
   ],
   "source": [
    "df"
   ]
  },
  {
   "cell_type": "code",
   "execution_count": null,
   "metadata": {
    "collapsed": true
   },
   "outputs": [],
   "source": []
  }
 ],
 "metadata": {
  "anaconda-cloud": {},
  "kernelspec": {
   "display_name": "Python [conda root]",
   "language": "python",
   "name": "conda-root-py"
  },
  "language_info": {
   "codemirror_mode": {
    "name": "ipython",
    "version": 2
   },
   "file_extension": ".py",
   "mimetype": "text/x-python",
   "name": "python",
   "nbconvert_exporter": "python",
   "pygments_lexer": "ipython2",
   "version": "2.7.13"
  }
 },
 "nbformat": 4,
 "nbformat_minor": 2
}
