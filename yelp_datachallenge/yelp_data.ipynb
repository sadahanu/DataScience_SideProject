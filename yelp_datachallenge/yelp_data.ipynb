{
 "cells": [
  {
   "cell_type": "code",
   "execution_count": 1,
   "metadata": {
    "collapsed": true
   },
   "outputs": [],
   "source": [
    "import pandas as pd\n",
    "import numpy as np\n",
    "import matplotlib.pylab as plt\n",
    "%matplotlib inline\n",
    "#       C:\\Users\\Dino\\Documents\\GitHub\\DataScience_SideProject\\yelp_datachallenge\n",
    "DataFolder =\"C:/Users/Dino/Documents/GitHub/\""
   ]
  },
  {
   "cell_type": "code",
   "execution_count": 2,
   "metadata": {
    "collapsed": false
   },
   "outputs": [],
   "source": [
    "with open(DataFolder+\"yelp_academic_dataset_business.json\", 'rb') as f:\n",
    "    data = f.readlines()\n",
    "data = map(lambda x: x.rstrip(), data)\n",
    "data_json_str = \"[\" + ','.join(data) + \"]\"\n",
    "# now, load it into pandas\n",
    "data_df = pd.read_json(data_json_str)\n",
    "#data = pd.read_json(DataFolder+\"yelp_academic_dataset_business.json\")"
   ]
  },
  {
   "cell_type": "code",
   "execution_count": 3,
   "metadata": {
    "collapsed": false
   },
   "outputs": [
    {
     "data": {
      "text/html": [
       "<div>\n",
       "<table border=\"1\" class=\"dataframe\">\n",
       "  <thead>\n",
       "    <tr style=\"text-align: right;\">\n",
       "      <th></th>\n",
       "      <th>address</th>\n",
       "      <th>attributes</th>\n",
       "      <th>business_id</th>\n",
       "      <th>categories</th>\n",
       "      <th>city</th>\n",
       "      <th>hours</th>\n",
       "      <th>is_open</th>\n",
       "      <th>latitude</th>\n",
       "      <th>longitude</th>\n",
       "      <th>name</th>\n",
       "      <th>neighborhood</th>\n",
       "      <th>postal_code</th>\n",
       "      <th>review_count</th>\n",
       "      <th>stars</th>\n",
       "      <th>state</th>\n",
       "      <th>type</th>\n",
       "    </tr>\n",
       "  </thead>\n",
       "  <tbody>\n",
       "    <tr>\n",
       "      <th>0</th>\n",
       "      <td>227 E Baseline Rd, Ste J2</td>\n",
       "      <td>[BikeParking: True, BusinessAcceptsBitcoin: Fa...</td>\n",
       "      <td>0DI8Dt2PJp07XkVvIElIcQ</td>\n",
       "      <td>[Tobacco Shops, Nightlife, Vape Shops, Shopping]</td>\n",
       "      <td>Tempe</td>\n",
       "      <td>[Monday 11:0-21:0, Tuesday 11:0-21:0, Wednesda...</td>\n",
       "      <td>0</td>\n",
       "      <td>33.378214</td>\n",
       "      <td>-111.936102</td>\n",
       "      <td>Innovative Vapors</td>\n",
       "      <td></td>\n",
       "      <td>85283</td>\n",
       "      <td>17</td>\n",
       "      <td>4.5</td>\n",
       "      <td>AZ</td>\n",
       "      <td>business</td>\n",
       "    </tr>\n",
       "    <tr>\n",
       "      <th>1</th>\n",
       "      <td>495 S Grand Central Pkwy</td>\n",
       "      <td>[BusinessAcceptsBitcoin: False, BusinessAccept...</td>\n",
       "      <td>LTlCaCGZE14GuaUXUGbamg</td>\n",
       "      <td>[Caterers, Grocery, Food, Event Planning &amp; Ser...</td>\n",
       "      <td>Las Vegas</td>\n",
       "      <td>[Monday 0:0-0:0, Tuesday 0:0-0:0, Wednesday 0:...</td>\n",
       "      <td>1</td>\n",
       "      <td>36.192284</td>\n",
       "      <td>-115.159272</td>\n",
       "      <td>Cut and Taste</td>\n",
       "      <td></td>\n",
       "      <td>89106</td>\n",
       "      <td>9</td>\n",
       "      <td>5.0</td>\n",
       "      <td>NV</td>\n",
       "      <td>business</td>\n",
       "    </tr>\n",
       "    <tr>\n",
       "      <th>2</th>\n",
       "      <td>979 Bloor Street W</td>\n",
       "      <td>[Alcohol: none, Ambience: {'romantic': False, ...</td>\n",
       "      <td>EDqCEAGXVGCH4FJXgqtjqg</td>\n",
       "      <td>[Restaurants, Pizza, Chicken Wings, Italian]</td>\n",
       "      <td>Toronto</td>\n",
       "      <td>[Monday 11:0-2:0, Tuesday 11:0-2:0, Wednesday ...</td>\n",
       "      <td>1</td>\n",
       "      <td>43.661054</td>\n",
       "      <td>-79.429089</td>\n",
       "      <td>Pizza Pizza</td>\n",
       "      <td>Dufferin Grove</td>\n",
       "      <td>M6H 1L5</td>\n",
       "      <td>7</td>\n",
       "      <td>2.5</td>\n",
       "      <td>ON</td>\n",
       "      <td>business</td>\n",
       "    </tr>\n",
       "    <tr>\n",
       "      <th>3</th>\n",
       "      <td>7014 Steubenville Pike</td>\n",
       "      <td>[AcceptsInsurance: False, BusinessAcceptsCredi...</td>\n",
       "      <td>cnGIivYRLxpF7tBVR_JwWA</td>\n",
       "      <td>[Hair Removal, Beauty &amp; Spas, Blow Dry/Out Ser...</td>\n",
       "      <td>Oakdale</td>\n",
       "      <td>[Tuesday 10:0-21:0, Wednesday 10:0-21:0, Thurs...</td>\n",
       "      <td>1</td>\n",
       "      <td>40.444544</td>\n",
       "      <td>-80.174540</td>\n",
       "      <td>Plush Salon and Spa</td>\n",
       "      <td></td>\n",
       "      <td>15071</td>\n",
       "      <td>4</td>\n",
       "      <td>4.0</td>\n",
       "      <td>PA</td>\n",
       "      <td>business</td>\n",
       "    </tr>\n",
       "    <tr>\n",
       "      <th>4</th>\n",
       "      <td>321 Jarvis Street</td>\n",
       "      <td>[BusinessAcceptsCreditCards: True, Restaurants...</td>\n",
       "      <td>cdk-qqJ71q6P7TJTww_DSA</td>\n",
       "      <td>[Hotels &amp; Travel, Event Planning &amp; Services, H...</td>\n",
       "      <td>Toronto</td>\n",
       "      <td>None</td>\n",
       "      <td>1</td>\n",
       "      <td>43.659829</td>\n",
       "      <td>-79.375401</td>\n",
       "      <td>Comfort Inn</td>\n",
       "      <td>Downtown Core</td>\n",
       "      <td>M5B 2C2</td>\n",
       "      <td>8</td>\n",
       "      <td>3.0</td>\n",
       "      <td>ON</td>\n",
       "      <td>business</td>\n",
       "    </tr>\n",
       "  </tbody>\n",
       "</table>\n",
       "</div>"
      ],
      "text/plain": [
       "                     address  \\\n",
       "0  227 E Baseline Rd, Ste J2   \n",
       "1   495 S Grand Central Pkwy   \n",
       "2         979 Bloor Street W   \n",
       "3     7014 Steubenville Pike   \n",
       "4          321 Jarvis Street   \n",
       "\n",
       "                                          attributes             business_id  \\\n",
       "0  [BikeParking: True, BusinessAcceptsBitcoin: Fa...  0DI8Dt2PJp07XkVvIElIcQ   \n",
       "1  [BusinessAcceptsBitcoin: False, BusinessAccept...  LTlCaCGZE14GuaUXUGbamg   \n",
       "2  [Alcohol: none, Ambience: {'romantic': False, ...  EDqCEAGXVGCH4FJXgqtjqg   \n",
       "3  [AcceptsInsurance: False, BusinessAcceptsCredi...  cnGIivYRLxpF7tBVR_JwWA   \n",
       "4  [BusinessAcceptsCreditCards: True, Restaurants...  cdk-qqJ71q6P7TJTww_DSA   \n",
       "\n",
       "                                          categories       city  \\\n",
       "0   [Tobacco Shops, Nightlife, Vape Shops, Shopping]      Tempe   \n",
       "1  [Caterers, Grocery, Food, Event Planning & Ser...  Las Vegas   \n",
       "2       [Restaurants, Pizza, Chicken Wings, Italian]    Toronto   \n",
       "3  [Hair Removal, Beauty & Spas, Blow Dry/Out Ser...    Oakdale   \n",
       "4  [Hotels & Travel, Event Planning & Services, H...    Toronto   \n",
       "\n",
       "                                               hours  is_open   latitude  \\\n",
       "0  [Monday 11:0-21:0, Tuesday 11:0-21:0, Wednesda...        0  33.378214   \n",
       "1  [Monday 0:0-0:0, Tuesday 0:0-0:0, Wednesday 0:...        1  36.192284   \n",
       "2  [Monday 11:0-2:0, Tuesday 11:0-2:0, Wednesday ...        1  43.661054   \n",
       "3  [Tuesday 10:0-21:0, Wednesday 10:0-21:0, Thurs...        1  40.444544   \n",
       "4                                               None        1  43.659829   \n",
       "\n",
       "    longitude                 name    neighborhood postal_code  review_count  \\\n",
       "0 -111.936102    Innovative Vapors                       85283            17   \n",
       "1 -115.159272        Cut and Taste                       89106             9   \n",
       "2  -79.429089          Pizza Pizza  Dufferin Grove     M6H 1L5             7   \n",
       "3  -80.174540  Plush Salon and Spa                       15071             4   \n",
       "4  -79.375401          Comfort Inn   Downtown Core     M5B 2C2             8   \n",
       "\n",
       "   stars state      type  \n",
       "0    4.5    AZ  business  \n",
       "1    5.0    NV  business  \n",
       "2    2.5    ON  business  \n",
       "3    4.0    PA  business  \n",
       "4    3.0    ON  business  "
      ]
     },
     "execution_count": 3,
     "metadata": {},
     "output_type": "execute_result"
    }
   ],
   "source": [
    "data_df.head(5)"
   ]
  },
  {
   "cell_type": "code",
   "execution_count": 19,
   "metadata": {
    "collapsed": false
   },
   "outputs": [
    {
     "name": "stdout",
     "output_type": "stream",
     "text": [
      "<class 'pandas.core.frame.DataFrame'>\n",
      "RangeIndex: 144072 entries, 0 to 144071\n",
      "Data columns (total 16 columns):\n",
      "address         144072 non-null object\n",
      "attributes      127162 non-null object\n",
      "business_id     144072 non-null object\n",
      "categories      144072 non-null object\n",
      "city            144072 non-null object\n",
      "hours           102464 non-null object\n",
      "is_open         144072 non-null int64\n",
      "latitude        144072 non-null float64\n",
      "longitude       144072 non-null float64\n",
      "name            144072 non-null object\n",
      "neighborhood    144072 non-null object\n",
      "postal_code     144072 non-null object\n",
      "review_count    144072 non-null int64\n",
      "stars           144072 non-null float64\n",
      "state           144072 non-null object\n",
      "type            144072 non-null object\n",
      "dtypes: float64(3), int64(2), object(11)\n",
      "memory usage: 17.6+ MB\n"
     ]
    }
   ],
   "source": [
    "data_df.info()"
   ]
  },
  {
   "cell_type": "code",
   "execution_count": 16,
   "metadata": {
    "collapsed": false
   },
   "outputs": [],
   "source": [
    "#data_df.describe(include = ['object'])\n",
    "data_df['categories'].fillna(-1,inplace = True)"
   ]
  },
  {
   "cell_type": "code",
   "execution_count": 28,
   "metadata": {
    "collapsed": true
   },
   "outputs": [],
   "source": [
    "def isRestaurant(categories):\n",
    "    if isinstance(categories,list):\n",
    "        for i in categories:\n",
    "            if 'restaurants'in i.lower():\n",
    "                return True\n",
    "    return False\n",
    "\n",
    "def isINUSA(state):\n",
    "    USAStates = [\"AL\", \"AK\", \"AZ\", \"AR\", \"CA\", \"CO\", \"CT\", \"DC\", \"DE\", \"FL\", \"GA\", \n",
    "          \"HI\", \"ID\", \"IL\", \"IN\", \"IA\", \"KS\", \"KY\", \"LA\", \"ME\", \"MD\", \n",
    "          \"MA\", \"MI\", \"MN\", \"MS\", \"MO\", \"MT\", \"NE\", \"NV\", \"NH\", \"NJ\", \n",
    "          \"NM\", \"NY\", \"NC\", \"ND\", \"OH\", \"OK\", \"OR\", \"PA\", \"RI\", \"SC\", \n",
    "          \"SD\", \"TN\", \"TX\", \"UT\", \"VT\", \"VA\", \"WA\", \"WV\", \"WI\", \"WY\"]\n",
    "    if state.upper() in USAStates:\n",
    "        return True\n",
    "    else:\n",
    "        return False"
   ]
  },
  {
   "cell_type": "code",
   "execution_count": 29,
   "metadata": {
    "collapsed": false
   },
   "outputs": [],
   "source": [
    "data_df['include'] = data_df.apply(lambda row:(isRestaurant(row['categories']) and isINUSA(row['state'])), axis = 1)"
   ]
  },
  {
   "cell_type": "code",
   "execution_count": 30,
   "metadata": {
    "collapsed": false
   },
   "outputs": [
    {
     "data": {
      "text/plain": [
       "False    114723\n",
       "True      29349\n",
       "Name: include, dtype: int64"
      ]
     },
     "execution_count": 30,
     "metadata": {},
     "output_type": "execute_result"
    }
   ],
   "source": [
    "data_df['include'].value_counts()"
   ]
  },
  {
   "cell_type": "code",
   "execution_count": 31,
   "metadata": {
    "collapsed": true
   },
   "outputs": [],
   "source": [
    "data_res = data_df[data_df['include']]"
   ]
  },
  {
   "cell_type": "code",
   "execution_count": 33,
   "metadata": {
    "collapsed": false
   },
   "outputs": [
    {
     "ename": "UnicodeEncodeError",
     "evalue": "'ascii' codec can't encode character u'\\xe9' in position 10: ordinal not in range(128)",
     "output_type": "error",
     "traceback": [
      "\u001b[0;31m---------------------------------------------------------------------------\u001b[0m",
      "\u001b[0;31mUnicodeEncodeError\u001b[0m                        Traceback (most recent call last)",
      "\u001b[0;32m<ipython-input-33-025b3a80dc3b>\u001b[0m in \u001b[0;36m<module>\u001b[0;34m()\u001b[0m\n\u001b[0;32m----> 1\u001b[0;31m \u001b[0mdata_res\u001b[0m\u001b[1;33m.\u001b[0m\u001b[0mto_csv\u001b[0m\u001b[1;33m(\u001b[0m\u001b[1;34m\"restaurant_yelp_academic_dataset_business.csv\"\u001b[0m\u001b[1;33m)\u001b[0m\u001b[1;33m\u001b[0m\u001b[0m\n\u001b[0m",
      "\u001b[0;32mC:\\Users\\Dino\\Anaconda2\\lib\\site-packages\\pandas\\core\\frame.pyc\u001b[0m in \u001b[0;36mto_csv\u001b[0;34m(self, path_or_buf, sep, na_rep, float_format, columns, header, index, index_label, mode, encoding, compression, quoting, quotechar, line_terminator, chunksize, tupleize_cols, date_format, doublequote, escapechar, decimal)\u001b[0m\n\u001b[1;32m   1381\u001b[0m                                      \u001b[0mdoublequote\u001b[0m\u001b[1;33m=\u001b[0m\u001b[0mdoublequote\u001b[0m\u001b[1;33m,\u001b[0m\u001b[1;33m\u001b[0m\u001b[0m\n\u001b[1;32m   1382\u001b[0m                                      escapechar=escapechar, decimal=decimal)\n\u001b[0;32m-> 1383\u001b[0;31m         \u001b[0mformatter\u001b[0m\u001b[1;33m.\u001b[0m\u001b[0msave\u001b[0m\u001b[1;33m(\u001b[0m\u001b[1;33m)\u001b[0m\u001b[1;33m\u001b[0m\u001b[0m\n\u001b[0m\u001b[1;32m   1384\u001b[0m \u001b[1;33m\u001b[0m\u001b[0m\n\u001b[1;32m   1385\u001b[0m         \u001b[1;32mif\u001b[0m \u001b[0mpath_or_buf\u001b[0m \u001b[1;32mis\u001b[0m \u001b[0mNone\u001b[0m\u001b[1;33m:\u001b[0m\u001b[1;33m\u001b[0m\u001b[0m\n",
      "\u001b[0;32mC:\\Users\\Dino\\Anaconda2\\lib\\site-packages\\pandas\\formats\\format.pyc\u001b[0m in \u001b[0;36msave\u001b[0;34m(self)\u001b[0m\n\u001b[1;32m   1473\u001b[0m                 \u001b[0mself\u001b[0m\u001b[1;33m.\u001b[0m\u001b[0mwriter\u001b[0m \u001b[1;33m=\u001b[0m \u001b[0mcsv\u001b[0m\u001b[1;33m.\u001b[0m\u001b[0mwriter\u001b[0m\u001b[1;33m(\u001b[0m\u001b[0mf\u001b[0m\u001b[1;33m,\u001b[0m \u001b[1;33m**\u001b[0m\u001b[0mwriter_kwargs\u001b[0m\u001b[1;33m)\u001b[0m\u001b[1;33m\u001b[0m\u001b[0m\n\u001b[1;32m   1474\u001b[0m \u001b[1;33m\u001b[0m\u001b[0m\n\u001b[0;32m-> 1475\u001b[0;31m             \u001b[0mself\u001b[0m\u001b[1;33m.\u001b[0m\u001b[0m_save\u001b[0m\u001b[1;33m(\u001b[0m\u001b[1;33m)\u001b[0m\u001b[1;33m\u001b[0m\u001b[0m\n\u001b[0m\u001b[1;32m   1476\u001b[0m \u001b[1;33m\u001b[0m\u001b[0m\n\u001b[1;32m   1477\u001b[0m         \u001b[1;32mfinally\u001b[0m\u001b[1;33m:\u001b[0m\u001b[1;33m\u001b[0m\u001b[0m\n",
      "\u001b[0;32mC:\\Users\\Dino\\Anaconda2\\lib\\site-packages\\pandas\\formats\\format.pyc\u001b[0m in \u001b[0;36m_save\u001b[0;34m(self)\u001b[0m\n\u001b[1;32m   1574\u001b[0m                 \u001b[1;32mbreak\u001b[0m\u001b[1;33m\u001b[0m\u001b[0m\n\u001b[1;32m   1575\u001b[0m \u001b[1;33m\u001b[0m\u001b[0m\n\u001b[0;32m-> 1576\u001b[0;31m             \u001b[0mself\u001b[0m\u001b[1;33m.\u001b[0m\u001b[0m_save_chunk\u001b[0m\u001b[1;33m(\u001b[0m\u001b[0mstart_i\u001b[0m\u001b[1;33m,\u001b[0m \u001b[0mend_i\u001b[0m\u001b[1;33m)\u001b[0m\u001b[1;33m\u001b[0m\u001b[0m\n\u001b[0m\u001b[1;32m   1577\u001b[0m \u001b[1;33m\u001b[0m\u001b[0m\n\u001b[1;32m   1578\u001b[0m     \u001b[1;32mdef\u001b[0m \u001b[0m_save_chunk\u001b[0m\u001b[1;33m(\u001b[0m\u001b[0mself\u001b[0m\u001b[1;33m,\u001b[0m \u001b[0mstart_i\u001b[0m\u001b[1;33m,\u001b[0m \u001b[0mend_i\u001b[0m\u001b[1;33m)\u001b[0m\u001b[1;33m:\u001b[0m\u001b[1;33m\u001b[0m\u001b[0m\n",
      "\u001b[0;32mC:\\Users\\Dino\\Anaconda2\\lib\\site-packages\\pandas\\formats\\format.pyc\u001b[0m in \u001b[0;36m_save_chunk\u001b[0;34m(self, start_i, end_i)\u001b[0m\n\u001b[1;32m   1600\u001b[0m                                         quoting=self.quoting)\n\u001b[1;32m   1601\u001b[0m \u001b[1;33m\u001b[0m\u001b[0m\n\u001b[0;32m-> 1602\u001b[0;31m         \u001b[0mlib\u001b[0m\u001b[1;33m.\u001b[0m\u001b[0mwrite_csv_rows\u001b[0m\u001b[1;33m(\u001b[0m\u001b[0mself\u001b[0m\u001b[1;33m.\u001b[0m\u001b[0mdata\u001b[0m\u001b[1;33m,\u001b[0m \u001b[0mix\u001b[0m\u001b[1;33m,\u001b[0m \u001b[0mself\u001b[0m\u001b[1;33m.\u001b[0m\u001b[0mnlevels\u001b[0m\u001b[1;33m,\u001b[0m \u001b[0mself\u001b[0m\u001b[1;33m.\u001b[0m\u001b[0mcols\u001b[0m\u001b[1;33m,\u001b[0m \u001b[0mself\u001b[0m\u001b[1;33m.\u001b[0m\u001b[0mwriter\u001b[0m\u001b[1;33m)\u001b[0m\u001b[1;33m\u001b[0m\u001b[0m\n\u001b[0m\u001b[1;32m   1603\u001b[0m \u001b[1;33m\u001b[0m\u001b[0m\n\u001b[1;32m   1604\u001b[0m \u001b[1;31m# from collections import namedtuple\u001b[0m\u001b[1;33m\u001b[0m\u001b[1;33m\u001b[0m\u001b[0m\n",
      "\u001b[0;32mpandas\\lib.pyx\u001b[0m in \u001b[0;36mpandas.lib.write_csv_rows (pandas\\lib.c:20752)\u001b[0;34m()\u001b[0m\n",
      "\u001b[0;31mUnicodeEncodeError\u001b[0m: 'ascii' codec can't encode character u'\\xe9' in position 10: ordinal not in range(128)"
     ]
    }
   ],
   "source": [
    "data_res.to_csv(\"restaurant_yelp_academic_dataset_business.csv\"encoding='utf-8')"
   ]
  },
  {
   "cell_type": "code",
   "execution_count": 13,
   "metadata": {
    "collapsed": false
   },
   "outputs": [
    {
     "data": {
      "text/plain": [
       "4"
      ]
     },
     "execution_count": 13,
     "metadata": {},
     "output_type": "execute_result"
    }
   ],
   "source": [
    "len(a)"
   ]
  },
  {
   "cell_type": "code",
   "execution_count": null,
   "metadata": {
    "collapsed": true
   },
   "outputs": [],
   "source": []
  }
 ],
 "metadata": {
  "anaconda-cloud": {},
  "kernelspec": {
   "display_name": "Python 2",
   "language": "python",
   "name": "python2"
  },
  "language_info": {
   "codemirror_mode": {
    "name": "ipython",
    "version": 2
   },
   "file_extension": ".py",
   "mimetype": "text/x-python",
   "name": "python",
   "nbconvert_exporter": "python",
   "pygments_lexer": "ipython2",
   "version": "2.7.13"
  }
 },
 "nbformat": 4,
 "nbformat_minor": 2
}
