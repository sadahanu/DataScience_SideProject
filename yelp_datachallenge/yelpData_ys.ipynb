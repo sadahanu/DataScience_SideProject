{
 "cells": [
  {
   "cell_type": "code",
   "execution_count": 3,
   "metadata": {
    "collapsed": true
   },
   "outputs": [],
   "source": [
    "import pandas as pd\n",
    "import numpy as np\n",
    "import matplotlib.pylab as plt\n",
    "%matplotlib inline\n",
    "DataFolder = \"/media/yisi/Data/Challenge/yelp_dataset_challenge_round9/\""
   ]
  },
  {
   "cell_type": "code",
   "execution_count": 41,
   "metadata": {
    "collapsed": false
   },
   "outputs": [],
   "source": [
    "with open(DataFolder+\"yelp_academic_dataset_review.json\", 'rb') as f:\n",
    "    data = f.readlines()\n",
    "data = map(lambda x: x.rstrip(), data)\n",
    "data_json_str = \"[\" + ','.join(data) + \"]\"\n",
    "# now, load it into pandas\n",
    "data_df = pd.read_json(data_json_str)"
   ]
  },
  {
   "cell_type": "code",
   "execution_count": 42,
   "metadata": {
    "collapsed": false
   },
   "outputs": [
    {
     "data": {
      "text/html": [
       "<div>\n",
       "<table border=\"1\" class=\"dataframe\">\n",
       "  <thead>\n",
       "    <tr style=\"text-align: right;\">\n",
       "      <th></th>\n",
       "      <th>business_id</th>\n",
       "      <th>cool</th>\n",
       "      <th>date</th>\n",
       "      <th>funny</th>\n",
       "      <th>review_id</th>\n",
       "      <th>stars</th>\n",
       "      <th>text</th>\n",
       "      <th>type</th>\n",
       "      <th>useful</th>\n",
       "      <th>user_id</th>\n",
       "    </tr>\n",
       "  </thead>\n",
       "  <tbody>\n",
       "    <tr>\n",
       "      <th>0</th>\n",
       "      <td>2aFiy99vNLklCx3T_tGS9A</td>\n",
       "      <td>0</td>\n",
       "      <td>2011-10-10</td>\n",
       "      <td>0</td>\n",
       "      <td>NxL8SIC5yqOdnlXCg18IBg</td>\n",
       "      <td>5</td>\n",
       "      <td>If you enjoy service by someone who is as comp...</td>\n",
       "      <td>review</td>\n",
       "      <td>0</td>\n",
       "      <td>KpkOkG6RIf4Ra25Lhhxf1A</td>\n",
       "    </tr>\n",
       "    <tr>\n",
       "      <th>1</th>\n",
       "      <td>2aFiy99vNLklCx3T_tGS9A</td>\n",
       "      <td>0</td>\n",
       "      <td>2010-12-29</td>\n",
       "      <td>0</td>\n",
       "      <td>pXbbIgOXvLuTi_SPs1hQEQ</td>\n",
       "      <td>5</td>\n",
       "      <td>After being on the phone with Verizon Wireless...</td>\n",
       "      <td>review</td>\n",
       "      <td>1</td>\n",
       "      <td>bQ7fQq1otn9hKX-gXRsrgA</td>\n",
       "    </tr>\n",
       "    <tr>\n",
       "      <th>2</th>\n",
       "      <td>2aFiy99vNLklCx3T_tGS9A</td>\n",
       "      <td>0</td>\n",
       "      <td>2011-04-29</td>\n",
       "      <td>0</td>\n",
       "      <td>wslW2Lu4NYylb1jEapAGsw</td>\n",
       "      <td>5</td>\n",
       "      <td>Great service! Corey is very service oriented....</td>\n",
       "      <td>review</td>\n",
       "      <td>0</td>\n",
       "      <td>r1NUhdNmL6yU9Bn-Yx6FTw</td>\n",
       "    </tr>\n",
       "    <tr>\n",
       "      <th>3</th>\n",
       "      <td>2LfIuF3_sX6uwe-IR-P0jQ</td>\n",
       "      <td>1</td>\n",
       "      <td>2014-07-14</td>\n",
       "      <td>0</td>\n",
       "      <td>GP6YEearUWrzPtQYSF1vVg</td>\n",
       "      <td>5</td>\n",
       "      <td>Highly recommended. Went in yesterday looking ...</td>\n",
       "      <td>review</td>\n",
       "      <td>0</td>\n",
       "      <td>aW3ix1KNZAvoM8q-WghA3Q</td>\n",
       "    </tr>\n",
       "    <tr>\n",
       "      <th>4</th>\n",
       "      <td>2LfIuF3_sX6uwe-IR-P0jQ</td>\n",
       "      <td>0</td>\n",
       "      <td>2014-01-15</td>\n",
       "      <td>0</td>\n",
       "      <td>25RlYGq2s5qShi-pn3ufVA</td>\n",
       "      <td>4</td>\n",
       "      <td>I walked in here looking for a specific piece ...</td>\n",
       "      <td>review</td>\n",
       "      <td>0</td>\n",
       "      <td>YOo-Cip8HqvKp_p9nEGphw</td>\n",
       "    </tr>\n",
       "    <tr>\n",
       "      <th>5</th>\n",
       "      <td>2LfIuF3_sX6uwe-IR-P0jQ</td>\n",
       "      <td>1</td>\n",
       "      <td>2013-04-28</td>\n",
       "      <td>0</td>\n",
       "      <td>Uf1Ki1yyH_JDKhLvn2e4FQ</td>\n",
       "      <td>5</td>\n",
       "      <td>What a great place! Modern on Melrose has amaz...</td>\n",
       "      <td>review</td>\n",
       "      <td>2</td>\n",
       "      <td>bgl3j8yJcRO-00NkUYsXGQ</td>\n",
       "    </tr>\n",
       "  </tbody>\n",
       "</table>\n",
       "</div>"
      ],
      "text/plain": [
       "              business_id  cool       date  funny               review_id  \\\n",
       "0  2aFiy99vNLklCx3T_tGS9A     0 2011-10-10      0  NxL8SIC5yqOdnlXCg18IBg   \n",
       "1  2aFiy99vNLklCx3T_tGS9A     0 2010-12-29      0  pXbbIgOXvLuTi_SPs1hQEQ   \n",
       "2  2aFiy99vNLklCx3T_tGS9A     0 2011-04-29      0  wslW2Lu4NYylb1jEapAGsw   \n",
       "3  2LfIuF3_sX6uwe-IR-P0jQ     1 2014-07-14      0  GP6YEearUWrzPtQYSF1vVg   \n",
       "4  2LfIuF3_sX6uwe-IR-P0jQ     0 2014-01-15      0  25RlYGq2s5qShi-pn3ufVA   \n",
       "5  2LfIuF3_sX6uwe-IR-P0jQ     1 2013-04-28      0  Uf1Ki1yyH_JDKhLvn2e4FQ   \n",
       "\n",
       "   stars                                               text    type  useful  \\\n",
       "0      5  If you enjoy service by someone who is as comp...  review       0   \n",
       "1      5  After being on the phone with Verizon Wireless...  review       1   \n",
       "2      5  Great service! Corey is very service oriented....  review       0   \n",
       "3      5  Highly recommended. Went in yesterday looking ...  review       0   \n",
       "4      4  I walked in here looking for a specific piece ...  review       0   \n",
       "5      5  What a great place! Modern on Melrose has amaz...  review       2   \n",
       "\n",
       "                  user_id  \n",
       "0  KpkOkG6RIf4Ra25Lhhxf1A  \n",
       "1  bQ7fQq1otn9hKX-gXRsrgA  \n",
       "2  r1NUhdNmL6yU9Bn-Yx6FTw  \n",
       "3  aW3ix1KNZAvoM8q-WghA3Q  \n",
       "4  YOo-Cip8HqvKp_p9nEGphw  \n",
       "5  bgl3j8yJcRO-00NkUYsXGQ  "
      ]
     },
     "execution_count": 42,
     "metadata": {},
     "output_type": "execute_result"
    }
   ],
   "source": [
    "data_df.head(6)"
   ]
  },
  {
   "cell_type": "code",
   "execution_count": 43,
   "metadata": {
    "collapsed": false
   },
   "outputs": [
    {
     "data": {
      "text/plain": [
       "business_id            object\n",
       "cool                    int64\n",
       "date           datetime64[ns]\n",
       "funny                   int64\n",
       "review_id              object\n",
       "stars                   int64\n",
       "text                   object\n",
       "type                   object\n",
       "useful                  int64\n",
       "user_id                object\n",
       "dtype: object"
      ]
     },
     "execution_count": 43,
     "metadata": {},
     "output_type": "execute_result"
    }
   ],
   "source": [
    "data_df.dtypes"
   ]
  },
  {
   "cell_type": "code",
   "execution_count": 44,
   "metadata": {
    "collapsed": false
   },
   "outputs": [
    {
     "data": {
      "text/plain": [
       "u\"If you enjoy service by someone who is as competent as he is personable, I would recommend Corey Kaplan highly. The time he has spent here has been very productive and working with him educational and enjoyable. I hope not to need him again (though this is highly unlikely) but knowing he is there if I do is very nice. By the way, I'm not from El Centro, CA. but Scottsdale, AZ.\""
      ]
     },
     "execution_count": 44,
     "metadata": {},
     "output_type": "execute_result"
    }
   ],
   "source": [
    "data_df.loc[0,'text']"
   ]
  },
  {
   "cell_type": "code",
   "execution_count": 23,
   "metadata": {
    "collapsed": false
   },
   "outputs": [
    {
     "data": {
      "text/plain": [
       "1"
      ]
     },
     "execution_count": 23,
     "metadata": {},
     "output_type": "execute_result"
    }
   ],
   "source": []
  },
  {
   "cell_type": "code",
   "execution_count": null,
   "metadata": {
    "collapsed": true
   },
   "outputs": [],
   "source": []
  }
 ],
 "metadata": {
  "kernelspec": {
   "display_name": "Python 2",
   "language": "python",
   "name": "python2"
  },
  "language_info": {
   "codemirror_mode": {
    "name": "ipython",
    "version": 2
   },
   "file_extension": ".py",
   "mimetype": "text/x-python",
   "name": "python",
   "nbconvert_exporter": "python",
   "pygments_lexer": "ipython2",
   "version": "2.7.13"
  }
 },
 "nbformat": 4,
 "nbformat_minor": 2
}
